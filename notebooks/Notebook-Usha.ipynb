{
 "cells": [
  {
   "cell_type": "code",
   "execution_count": 1,
   "id": "fa62f63f-76b2-480f-81d1-3dccfa1024fc",
   "metadata": {},
   "outputs": [],
   "source": [
    "# importing necessary libraries\n",
    "import pandas as pd\n",
    "import pymysql\n",
    "import requests\n",
    "import matplotlib.pyplot as plt\n",
    "import requests\n"
   ]
  },
  {
   "cell_type": "code",
   "execution_count": 2,
   "id": "930f5572-b791-4d13-8dfc-8c8471ecace5",
   "metadata": {
    "panel-layout": {
     "height": 9.53674e-07,
     "visible": true,
     "width": 100
    }
   },
   "outputs": [],
   "source": [
    "# ignore warnings\n",
    "import warnings\n",
    "warnings.filterwarnings('ignore')"
   ]
  },
  {
   "cell_type": "code",
   "execution_count": 3,
   "id": "67c46ce9-64a7-4b1e-a319-e3ea00bcb92b",
   "metadata": {},
   "outputs": [],
   "source": [
    "# function to connect to wiki_dbs and query\n",
    "def connect_and_query(wiki_name, query, cnf_path = \"/home/paws/.my.cnf\"):\n",
    "    \n",
    "    conn = pymysql.connect(host = wiki_name + '.analytics.db.svc.wikimedia.cloud',\n",
    "                           read_default_file = cnf_path,\n",
    "                           database = wiki_name + '_p')\n",
    "    \n",
    "    with conn.cursor() as cur:\n",
    "        cur.execute(query)\n",
    "        data = cur.fetchall()\n",
    "    \n",
    "    conn.close()\n",
    "    return data"
   ]
  },
  {
   "cell_type": "markdown",
   "id": "194147e9-2a70-4ba9-bb5e-792b228e08a0",
   "metadata": {},
   "source": [
    "Content: Top 25 most used templates"
   ]
  },
  {
   "cell_type": "code",
   "execution_count": 4,
   "id": "9b8f9188-8774-4769-997f-a1e946318fa3",
   "metadata": {},
   "outputs": [],
   "source": [
    "query_url = \"https://raw.githubusercontent.com/UshaKiran31/community-insights-dashboard-tooling/main/Content-Top%2025%20Most%20Used%20Templates.sql\"\n",
    "query = requests.get(query_url).text"
   ]
  },
  {
   "cell_type": "code",
   "execution_count": 5,
   "id": "3ac51861-9815-4cf4-bb78-65cc104e5b7e",
   "metadata": {
    "scrolled": true
   },
   "outputs": [],
   "source": [
    "wikis = ['tewiki', 'hiwiki', 'mlwiki']\n",
    "all_dfs = []\n",
    "\n",
    "# Loop and fetch data for each wiki\n",
    "for wiki in wikis:\n",
    "    output = connect_and_query(wiki, query)\n",
    "    df = pd.DataFrame(output, columns=['template_name', 'usage_count'])\n",
    "    df['wiki'] = wiki  # Add differentiation column\n",
    "    all_dfs.append(df)\n",
    "\n",
    "# Combine all into one dataframe\n",
    "combined_df = pd.concat(all_dfs, ignore_index=True)"
   ]
  },
  {
   "cell_type": "code",
   "execution_count": 6,
   "id": "df8dad0b-f54e-433c-8650-240e116e46ad",
   "metadata": {},
   "outputs": [],
   "source": [
    "def decode_bytes(val):\n",
    "    if isinstance(val, bytes):\n",
    "        return val.decode('utf-8')\n",
    "    return val\n",
    "\n",
    "for col in combined_df.columns:\n",
    "    combined_df[col] = combined_df[col].apply(decode_bytes)"
   ]
  },
  {
   "cell_type": "code",
   "execution_count": 7,
   "id": "d17aa0cb-9490-4bdf-b144-5c0c28c4a432",
   "metadata": {},
   "outputs": [
    {
     "data": {
      "text/html": [
       "<div>\n",
       "<style scoped>\n",
       "    .dataframe tbody tr th:only-of-type {\n",
       "        vertical-align: middle;\n",
       "    }\n",
       "\n",
       "    .dataframe tbody tr th {\n",
       "        vertical-align: top;\n",
       "    }\n",
       "\n",
       "    .dataframe thead th {\n",
       "        text-align: right;\n",
       "    }\n",
       "</style>\n",
       "<table border=\"1\" class=\"dataframe\">\n",
       "  <thead>\n",
       "    <tr style=\"text-align: right;\">\n",
       "      <th></th>\n",
       "      <th>template_name</th>\n",
       "      <th>usage_count</th>\n",
       "      <th>wiki</th>\n",
       "    </tr>\n",
       "  </thead>\n",
       "  <tbody>\n",
       "    <tr>\n",
       "      <th>0</th>\n",
       "      <td>Sitesupportpage</td>\n",
       "      <td>138694</td>\n",
       "      <td>tewiki</td>\n",
       "    </tr>\n",
       "    <tr>\n",
       "      <th>1</th>\n",
       "      <td>Gnunote</td>\n",
       "      <td>22149</td>\n",
       "      <td>tewiki</td>\n",
       "    </tr>\n",
       "    <tr>\n",
       "      <th>2</th>\n",
       "      <td>మొదటి_పేజీ_లింకులు</td>\n",
       "      <td>17205</td>\n",
       "      <td>tewiki</td>\n",
       "    </tr>\n",
       "    <tr>\n",
       "      <th>3</th>\n",
       "      <td>సుస్వాగతము</td>\n",
       "      <td>17200</td>\n",
       "      <td>tewiki</td>\n",
       "    </tr>\n",
       "    <tr>\n",
       "      <th>4</th>\n",
       "      <td>మార్గదర్శిని</td>\n",
       "      <td>16703</td>\n",
       "      <td>tewiki</td>\n",
       "    </tr>\n",
       "    <tr>\n",
       "      <th>...</th>\n",
       "      <td>...</td>\n",
       "      <td>...</td>\n",
       "      <td>...</td>\n",
       "    </tr>\n",
       "    <tr>\n",
       "      <th>70</th>\n",
       "      <td>മേയ്</td>\n",
       "      <td>741</td>\n",
       "      <td>mlwiki</td>\n",
       "    </tr>\n",
       "    <tr>\n",
       "      <th>71</th>\n",
       "      <td>CAL_SEP</td>\n",
       "      <td>703</td>\n",
       "      <td>mlwiki</td>\n",
       "    </tr>\n",
       "    <tr>\n",
       "      <th>72</th>\n",
       "      <td>Convert/Dual/LoutAoffD/SonNa</td>\n",
       "      <td>620</td>\n",
       "      <td>mlwiki</td>\n",
       "    </tr>\n",
       "    <tr>\n",
       "      <th>73</th>\n",
       "      <td>Geo_Stub</td>\n",
       "      <td>611</td>\n",
       "      <td>mlwiki</td>\n",
       "    </tr>\n",
       "    <tr>\n",
       "      <th>74</th>\n",
       "      <td>Commonscat</td>\n",
       "      <td>561</td>\n",
       "      <td>mlwiki</td>\n",
       "    </tr>\n",
       "  </tbody>\n",
       "</table>\n",
       "<p>75 rows × 3 columns</p>\n",
       "</div>"
      ],
      "text/plain": [
       "                   template_name  usage_count    wiki\n",
       "0                Sitesupportpage       138694  tewiki\n",
       "1                        Gnunote        22149  tewiki\n",
       "2             మొదటి_పేజీ_లింకులు        17205  tewiki\n",
       "3                     సుస్వాగతము        17200  tewiki\n",
       "4                   మార్గదర్శిని        16703  tewiki\n",
       "..                           ...          ...     ...\n",
       "70                          മേയ്          741  mlwiki\n",
       "71                       CAL_SEP          703  mlwiki\n",
       "72  Convert/Dual/LoutAoffD/SonNa          620  mlwiki\n",
       "73                      Geo_Stub          611  mlwiki\n",
       "74                    Commonscat          561  mlwiki\n",
       "\n",
       "[75 rows x 3 columns]"
      ]
     },
     "execution_count": 7,
     "metadata": {},
     "output_type": "execute_result"
    }
   ],
   "source": [
    "combined_df"
   ]
  },
  {
   "cell_type": "markdown",
   "id": "1cb0732c-c82b-4e35-87a6-e51636565766",
   "metadata": {},
   "source": [
    "Editors: Number of editors with at least one edit (rolling YoY)"
   ]
  },
  {
   "cell_type": "code",
   "execution_count": 8,
   "id": "7af69211-c00a-4f22-a441-12750107bece",
   "metadata": {},
   "outputs": [],
   "source": [
    "query_url = \"https://raw.githubusercontent.com/UshaKiran31/community-insights-dashboard-tooling/main/Editors-Number%20of%20editors%20with%20at%20least%20one%20edit.sql\"\n",
    "query = requests.get(query_url).text"
   ]
  },
  {
   "cell_type": "code",
   "execution_count": null,
   "id": "3dec05da-b43e-4472-8e44-414a121eb868",
   "metadata": {},
   "outputs": [],
   "source": [
    "wikis = ['tewiki', 'hiwiki', 'mlwiki']\n",
    "all_dfs = []\n",
    "\n",
    "# Loop and fetch data for each wiki\n",
    "for wiki in wikis:\n",
    "    output = connect_and_query(wiki, query)\n",
    "    df = pd.DataFrame(output, columns=['edit_year', 'active_editors'])\n",
    "    df['wiki'] = wiki  # Add differentiation column\n",
    "    all_dfs.append(df)\n",
    "\n",
    "# Combine all into one dataframe\n",
    "combined_df = pd.concat(all_dfs, ignore_index=True)"
   ]
  },
  {
   "cell_type": "code",
   "execution_count": null,
   "id": "f1434eea-739b-4832-99d0-6873f6ded5ca",
   "metadata": {},
   "outputs": [],
   "source": [
    "combined_df"
   ]
  },
  {
   "cell_type": "code",
   "execution_count": null,
   "id": "37ba2f9e-a35d-4aed-bfab-a16b4cb7dc71",
   "metadata": {},
   "outputs": [],
   "source": [
    "# Sort and calculate moving average\n",
    "combined_df = combined_df.sort_values(by=['wiki', 'edit_year'])\n",
    "combined_df['moving_avg'] = combined_df.groupby('wiki')['active_editors'].transform(lambda x: x.rolling(window=2).mean())\n",
    "\n",
    "# Plot for each wiki \n",
    "for wiki in combined_df['wiki'].unique():\n",
    "    df_wiki = combined_df[combined_df['wiki'] == wiki]\n",
    "\n",
    "    plt.figure(figsize=(8, 5))\n",
    "    plt.bar(df_wiki['edit_year'], df_wiki['active_editors'], color='skyblue', label='Active Editors')\n",
    "    plt.plot(df_wiki['edit_year'], df_wiki['moving_avg'], color='red', marker='o', linewidth=2, label='Moving Avg Line')\n",
    "\n",
    "    plt.xticks(df_wiki['edit_year'].unique())  # Show only distinct years like 2024, 2025\n",
    "\n",
    "    plt.title(f'Active Editors per Year – {wiki}', fontsize=14)\n",
    "    plt.xlabel('Edit Year')\n",
    "    plt.ylabel('Number of Active Editors')\n",
    "    plt.legend()\n",
    "    plt.grid(True)\n",
    "    plt.tight_layout()\n",
    "    plt.show()\n"
   ]
  },
  {
   "cell_type": "markdown",
   "id": "b04d11bc-d235-4b7a-bc6f-ea0f731184ea",
   "metadata": {},
   "source": [
    "Editors: Top 10 non-bot registered users for the selected time period"
   ]
  },
  {
   "cell_type": "code",
   "execution_count": null,
   "id": "9da95124-9259-441c-9676-2a180b3a0d77",
   "metadata": {},
   "outputs": [],
   "source": [
    "query_url = \"https://raw.githubusercontent.com/UshaKiran31/community-insights-dashboard-tooling/main/Editors-Top%2010%20non-bot%20registered%20users%20for%20the%20selected%20time%20period.sql\"\n",
    "query = requests.get(query_url).text"
   ]
  },
  {
   "cell_type": "code",
   "execution_count": null,
   "id": "c9a15377-927f-4d36-a0e3-c1006b5c04ba",
   "metadata": {},
   "outputs": [],
   "source": [
    "wikis = ['tewiki', 'hiwiki', 'mlwiki']\n",
    "all_dfs = []\n",
    "\n",
    "# Loop and fetch data for each wiki\n",
    "for wiki in wikis:\n",
    "    output = connect_and_query(wiki, query)\n",
    "    df = pd.DataFrame(output, columns=['username', 'edits'])\n",
    "    df['wiki'] = wiki  # Add differentiation column\n",
    "    all_dfs.append(df)\n",
    "\n",
    "# Combine all into one dataframe\n",
    "combined_df = pd.concat(all_dfs, ignore_index=True)"
   ]
  },
  {
   "cell_type": "code",
   "execution_count": null,
   "id": "5880d6d5-26b9-4d4f-ad98-920cb029a68e",
   "metadata": {},
   "outputs": [],
   "source": [
    "def decode_bytes(val):\n",
    "    if isinstance(val, bytes):\n",
    "        return val.decode('utf-8')\n",
    "    return val\n",
    "\n",
    "for col in combined_df.columns:\n",
    "    combined_df[col] = combined_df[col].apply(decode_bytes)"
   ]
  },
  {
   "cell_type": "code",
   "execution_count": null,
   "id": "a094230b-57b4-453d-9006-df2983acfcdc",
   "metadata": {},
   "outputs": [],
   "source": [
    "combined_df"
   ]
  },
  {
   "cell_type": "code",
   "execution_count": null,
   "id": "91750d83-2ac9-4008-bb8b-a8b4e3c0d855",
   "metadata": {},
   "outputs": [],
   "source": [
    "plt.figure(figsize=(12, 6))\n",
    "\n",
    "# Assign colors to each wiki\n",
    "colors = {'tewiki': '#3B82F6', 'hiwiki': '#60A5FA', 'mlwiki': '#1D4ED8'}\n",
    "\n",
    "# Plot per wiki\n",
    "for wiki in wikis:\n",
    "    wiki_df = combined_df[combined_df['wiki'] == wiki]\n",
    "    plt.scatter(\n",
    "        wiki_df['username'], \n",
    "        wiki_df['edits'], \n",
    "        s=100, \n",
    "        label=wiki, \n",
    "        color=colors[wiki]\n",
    "    )\n",
    "\n",
    "# Aesthetics\n",
    "plt.xlabel(\"Username\")\n",
    "plt.ylabel(\"Number of Edits\")\n",
    "plt.title(\"Top 10 Non-Bot Editors in Last 3 Months (Across Wikis)\")\n",
    "plt.xticks(rotation=45, ha='right')\n",
    "plt.legend()\n",
    "plt.grid(True)\n",
    "plt.tight_layout()\n",
    "plt.show()\n"
   ]
  },
  {
   "cell_type": "code",
   "execution_count": null,
   "id": "c6fadd68-91e9-4898-b77f-99733ad590a5",
   "metadata": {},
   "outputs": [],
   "source": []
  }
 ],
 "metadata": {
  "kernelspec": {
   "display_name": "Python 3 (ipykernel)",
   "language": "python",
   "name": "python3"
  },
  "language_info": {
   "codemirror_mode": {
    "name": "ipython",
    "version": 3
   },
   "file_extension": ".py",
   "mimetype": "text/x-python",
   "name": "python",
   "nbconvert_exporter": "python",
   "pygments_lexer": "ipython3",
   "version": "3.12.3"
  },
  "panel-cell-order": [
   "930f5572-b791-4d13-8dfc-8c8471ecace5",
   "ceed1080-bdac-445a-85c5-919c480f1f07"
  ]
 },
 "nbformat": 4,
 "nbformat_minor": 5
}
